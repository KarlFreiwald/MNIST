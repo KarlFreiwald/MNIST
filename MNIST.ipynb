{
 "cells": [
  {
   "cell_type": "markdown",
   "id": "62fc301e-0bb5-4829-b51a-a5faec412a7a",
   "metadata": {},
   "source": [
    "# MNIST dataset\n",
    "## Modified National Institute of Standards and Technology database\n",
    "This notebook explores the MNIST dataset with basic ML libraries."
   ]
  },
  {
   "cell_type": "code",
   "execution_count": 96,
   "id": "ce65e16c-575c-4e3c-8baf-4dfaa761b9f7",
   "metadata": {},
   "outputs": [],
   "source": [
    "import keras\n",
    "import tensorflow as tf\n",
    "from sklearn.model_selection import train_test_split\n",
    "import numpy as np\n",
    "import pandas as pd\n",
    "from matplotlib import pyplot as plt"
   ]
  },
  {
   "cell_type": "code",
   "execution_count": 97,
   "id": "5f46a9e4-a28b-40ba-b1cd-98bbbe6a7928",
   "metadata": {},
   "outputs": [],
   "source": [
    "(x_train, y_train),(x_test, y_test) = keras.datasets.mnist.load_data()"
   ]
  },
  {
   "cell_type": "code",
   "execution_count": 98,
   "id": "322ad4fe-a1b1-4022-81d5-873596d4eda0",
   "metadata": {},
   "outputs": [],
   "source": [
    "# x_train, x_test, y_train, y_test = train_test_split(X, y, test_size=0.33, random_state=42)"
   ]
  },
  {
   "cell_type": "code",
   "execution_count": 99,
   "id": "0088d757-a814-431d-87d2-2b46f7fa8f71",
   "metadata": {},
   "outputs": [
    {
     "name": "stdout",
     "output_type": "stream",
     "text": [
      "x_train.shape=(60000, 28, 28)\n",
      "y_train.shape=(60000,)\n",
      "x_test.shape=(10000, 28, 28)\n",
      "y_test.shape=(10000,)\n"
     ]
    }
   ],
   "source": [
    "print(f'{x_train.shape=}')\n",
    "print(f'{y_train.shape=}')\n",
    "print(f'{x_test.shape=}')\n",
    "print(f'{y_test.shape=}')"
   ]
  },
  {
   "cell_type": "code",
   "execution_count": 100,
   "id": "725c32f5-683c-4cdc-8f6f-b2a297c1993b",
   "metadata": {},
   "outputs": [
    {
     "data": {
      "image/png": "[encoded data removed]",
      "text/plain": [
       "<Figure size 640x480 with 1 Axes>"
      ]
     },
     "metadata": {},
     "output_type": "display_data"
    }
   ],
   "source": [
    "example = 60\n",
    "\n",
    "# plt.imshow(x_train[example,:,:], cmap=plt.cm.binary) # black/white\n",
    "plt.imshow(x_train[example,:,:])\n",
    "plt.title(f'true label: {y_train[example]}')\n",
    "plt.show()"
   ]
  },
  {
   "cell_type": "markdown",
   "id": "47cc5dee-3372-4671-b402-85cd461b3600",
   "metadata": {},
   "source": [
    "## reshaping and scaling image data"
   ]
  },
  {
   "cell_type": "code",
   "execution_count": 101,
   "id": "250fa9c8-b6c0-4388-af03-318f29a54d14",
   "metadata": {},
   "outputs": [],
   "source": [
    "x_train_reshaped_scaled = x_train.reshape((x_train.shape[0], -1)).astype(\"float32\")/x_train.max()\n",
    "x_test_reshaped_scaled = x_test.reshape((x_test.shape[0], -1)).astype(\"float32\")/x_test.max()"
   ]
  },
  {
   "cell_type": "code",
   "execution_count": 102,
   "id": "13e4f2be-e3a5-4d3f-a4fb-d1d400e3f742",
   "metadata": {},
   "outputs": [],
   "source": [
    "x_train = x_train_reshaped_scaled\n",
    "x_test = x_test_reshaped_scaled"
   ]
  },
  {
   "cell_type": "code",
   "execution_count": 103,
   "id": "fa5a3ed1-fd10-49b1-a041-713d524fd42a",
   "metadata": {},
   "outputs": [
    {
     "name": "stdout",
     "output_type": "stream",
     "text": [
      "x_train.shape=(60000, 784)\n",
      "x_test.shape=(10000, 784)\n"
     ]
    }
   ],
   "source": [
    "print(f'{x_train.shape=}')\n",
    "print(f'{x_test.shape=}')"
   ]
  },
  {
   "cell_type": "markdown",
   "id": "ac1bf85b-45fd-4846-a138-d903e7c94b79",
   "metadata": {},
   "source": [
    "## One-Hot-Endcoding labels"
   ]
  },
  {
   "cell_type": "code",
   "execution_count": 104,
   "id": "ed6d74f1-08b6-4942-8397-16e7d31c4c63",
   "metadata": {},
   "outputs": [],
   "source": [
    "y_train = keras.utils.to_categorical(y_train)\n",
    "y_test = keras.utils.to_categorical(y_test)"
   ]
  },
  {
   "cell_type": "markdown",
   "id": "84b999ac-6e63-4b5c-bc8b-cd808d35028c",
   "metadata": {},
   "source": [
    "## creating the neural network"
   ]
  },
  {
   "cell_type": "code",
   "execution_count": 170,
   "id": "6e34d4dd-b9ab-4962-8870-a85640b1dcc3",
   "metadata": {},
   "outputs": [],
   "source": [
    "model = keras.models.Sequential()\n",
    "\n",
    "model.add(layers.Dense(\n",
    "    512, \n",
    "    activation = \"relu\", \n",
    "    input_shape = (28*28, )\n",
    "))\n",
    "\n",
    "model.add(layers.Dense(\n",
    "    32, \n",
    "    activation = \"relu\", \n",
    "    input_shape = (28*28, )\n",
    "))\n",
    "\n",
    "model.add(layers.Dense(\n",
    "    16, \n",
    "    activation = \"relu\", \n",
    "    input_shape = (28*28, )\n",
    "))\n",
    "\n",
    "# using softmax for multiclass classification and probability\n",
    "model.add(layers.Dense(\n",
    "    10, \n",
    "    activation = \"softmax\"\n",
    "))"
   ]
  },
  {
   "cell_type": "code",
   "execution_count": 171,
   "id": "dae50d14-dc9b-4781-9c63-2eadcd3e64c7",
   "metadata": {},
   "outputs": [
    {
     "name": "stdout",
     "output_type": "stream",
     "text": [
      "Model: \"sequential_12\"\n",
      "_________________________________________________________________\n",
      " Layer (type)                Output Shape              Param #   \n",
      "=================================================================\n",
      " dense_44 (Dense)            (None, 512)               401920    \n",
      "                                                                 \n",
      " dense_45 (Dense)            (None, 32)                16416     \n",
      "                                                                 \n",
      " dense_46 (Dense)            (None, 16)                528       \n",
      "                                                                 \n",
      " dense_47 (Dense)            (None, 10)                170       \n",
      "                                                                 \n",
      "=================================================================\n",
      "Total params: 419,034\n",
      "Trainable params: 419,034\n",
      "Non-trainable params: 0\n",
      "_________________________________________________________________\n"
     ]
    }
   ],
   "source": [
    "model.summary()"
   ]
  },
  {
   "cell_type": "code",
   "execution_count": 172,
   "id": "f704352b-a0d7-4ab1-9038-035e54996b32",
   "metadata": {},
   "outputs": [],
   "source": [
    "model.compile(\n",
    "    optimizer= \"adam\",\n",
    "    loss = \"categorical_crossentropy\",\n",
    "    metrics = [\"accuracy\"]\n",
    ")"
   ]
  },
  {
   "cell_type": "code",
   "execution_count": 173,
   "id": "51e5af18-7fb2-437a-88cc-fa865ee633f5",
   "metadata": {},
   "outputs": [
    {
     "name": "stdout",
     "output_type": "stream",
     "text": [
      "Epoch 1/8\n",
      "1875/1875 [==============================] - 24s 12ms/step - loss: 0.2435 - accuracy: 0.9287\n",
      "Epoch 2/8\n",
      "1875/1875 [==============================] - 23s 12ms/step - loss: 0.0960 - accuracy: 0.9707\n",
      "Epoch 3/8\n",
      "1875/1875 [==============================] - 22s 12ms/step - loss: 0.0654 - accuracy: 0.9794\n",
      "Epoch 4/8\n",
      "1875/1875 [==============================] - 22s 12ms/step - loss: 0.0464 - accuracy: 0.9850\n",
      "Epoch 5/8\n",
      "1875/1875 [==============================] - 22s 12ms/step - loss: 0.0371 - accuracy: 0.9882\n",
      "Epoch 6/8\n",
      "1875/1875 [==============================] - 22s 12ms/step - loss: 0.0301 - accuracy: 0.9905\n",
      "Epoch 7/8\n",
      "1875/1875 [==============================] - 22s 12ms/step - loss: 0.0259 - accuracy: 0.9918\n",
      "Epoch 8/8\n",
      "1875/1875 [==============================] - 22s 12ms/step - loss: 0.0221 - accuracy: 0.9926\n"
     ]
    },
    {
     "data": {
      "text/plain": [
       "<keras.callbacks.History at 0x195e2bfbd60>"
      ]
     },
     "execution_count": 173,
     "metadata": {},
     "output_type": "execute_result"
    }
   ],
   "source": [
    "model.fit(\n",
    "    x_train,\n",
    "    y_train,\n",
    "    epochs=8,\n",
    "    batch_size=32,\n",
    ")"
   ]
  },
  {
   "cell_type": "code",
   "execution_count": 174,
   "id": "28d6305b-fd71-4706-a3cb-5a51d1481a33",
   "metadata": {},
   "outputs": [
    {
     "name": "stdout",
     "output_type": "stream",
     "text": [
      "313/313 [==============================] - 2s 5ms/step - loss: 0.1025 - accuracy: 0.9747\n"
     ]
    }
   ],
   "source": [
    "test_loss, test_accuracy = model.evaluate(x_test, y_test)"
   ]
  },
  {
   "cell_type": "code",
   "execution_count": 175,
   "id": "5301394e-f6da-405b-b885-9e13e42e5db0",
   "metadata": {},
   "outputs": [
    {
     "name": "stdout",
     "output_type": "stream",
     "text": [
      "test_loss :\t10.2%\n",
      "test_accuracy :\t97.5%\n"
     ]
    }
   ],
   "source": [
    "print(f\"test_loss :\\t{test_loss*100:.3}%\")\n",
    "print(f\"test_accuracy :\\t{test_accuracy*100:.3}%\")"
   ]
  },
  {
   "cell_type": "code",
   "execution_count": null,
   "id": "95437bd8-68ab-455a-8a3e-be6c55e3488f",
   "metadata": {},
   "outputs": [],
   "source": []
  }
 ],
 "metadata": {
  "kernelspec": {
   "display_name": "Python 3 (ipykernel)",
   "language": "python",
   "name": "python3"
  },
  "language_info": {
   "codemirror_mode": {
    "name": "ipython",
    "version": 3
   },
   "file_extension": ".py",
   "mimetype": "text/x-python",
   "name": "python",
   "nbconvert_exporter": "python",
   "pygments_lexer": "ipython3",
   "version": "3.9.13"
  }
 },
 "nbformat": 4,
 "nbformat_minor": 5
}
